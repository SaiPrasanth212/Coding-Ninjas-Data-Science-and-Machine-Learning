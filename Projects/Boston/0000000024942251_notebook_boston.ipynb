{
 "cells": [
  {
   "cell_type": "code",
   "execution_count": 1,
   "metadata": {},
   "outputs": [],
   "source": [
    "import numpy as np\n",
    "\n",
    "from sklearn.preprocessing import StandardScaler\n",
    "from sklearn import ensemble\n"
   ]
  },
  {
   "cell_type": "code",
   "execution_count": 2,
   "metadata": {},
   "outputs": [],
   "source": [
    "data_train = np.loadtxt(\"0000000000002417_training_boston_x_y_train.csv\",delimiter=\",\")\n",
    "X_test = np.loadtxt(\"0000000000002417_test_boston_x_test.csv\",delimiter=\",\")"
   ]
  },
  {
   "cell_type": "code",
   "execution_count": 3,
   "metadata": {},
   "outputs": [],
   "source": [
    "X_train = data_train[:,0:13]\n",
    "Y_train = data_train[:,13]"
   ]
  },
  {
   "cell_type": "code",
   "execution_count": 4,
   "metadata": {},
   "outputs": [],
   "source": [
    "gbr = ensemble.GradientBoostingRegressor(n_estimators=1200,max_depth=5,min_samples_split=2,learning_rate=0.2,loss='ls')\n",
    "scaler = StandardScaler()\n",
    "scaler.fit(X_train)\n",
    "X_train = scaler.transform(X_train)\n",
    "X_test = scaler.transform(X_test)\n",
    "gbr.fit(X_train,Y_train)\n",
    "y_pred  = gbr.predict(X_test)\n",
    "np.savetxt('y_pred1.csv',y_pred, fmt='%1.5f')"
   ]
  },
  {
   "cell_type": "code",
   "execution_count": 5,
   "metadata": {},
   "outputs": [
    {
     "data": {
      "text/plain": [
       "array([17.49485998, 27.0391486 , 14.74900918, 21.79741225, 21.53782664,\n",
       "       12.32372168, 28.16773258, 25.75623034, 18.51117977, 21.39037782,\n",
       "       23.64291818, 17.76329239, 19.43729557, 19.75904635, 49.81645887,\n",
       "       20.71029863, 24.38146411, 22.24407502, 18.24851206, 31.0602755 ,\n",
       "       20.59094444, 20.79610885, 34.23476698, 30.15050146, 32.10249094,\n",
       "       16.17889564, 21.34897694, 29.57207599, 22.64742258, 28.19682051,\n",
       "       18.13346215, 25.05527497, 19.44197284, 23.47587144, 10.31178932,\n",
       "       23.86479256, 23.27046754, 20.56797707, 22.59494853,  8.73312116,\n",
       "       16.02834316, 23.32982054, 24.33196402, 19.50023066, 21.87570885,\n",
       "        8.60502935, 43.2557268 , 23.93014496, 35.10732973, 13.47950989,\n",
       "       11.0376752 , 48.84072599, 11.71916112, 19.38707868, 15.24433038,\n",
       "       20.0219108 , 18.54368347, 21.72229993, 13.71815219, 16.15336787,\n",
       "       14.39899728, 26.82789686, 22.00919262, 24.07554548, 13.65683073,\n",
       "       14.81121478, 31.85123137, 12.41688379, 21.96658467, 21.37828756,\n",
       "       26.20701714, 22.01010004, 16.22787687,  6.09919139, 42.21382531,\n",
       "       21.93882028, 25.87782595, 24.91347127, 12.47312556, 32.44272324,\n",
       "       21.86082183, 21.10374761, 20.30652094, 17.6994503 , 15.98789989,\n",
       "       34.72488669, 28.13933791,  9.77579911, 22.6203127 , 16.31326971,\n",
       "       21.07562329, 19.72845434, 19.3157141 , 10.41771901, 19.94939346,\n",
       "       24.75173431, 49.45363485, 19.22024709, 34.77893058, 23.04266784,\n",
       "       22.85389694, 21.68036143, 22.05814457, 28.32416617, 13.81030489,\n",
       "       24.10567764, 20.7513247 , 47.19500092, 24.19897011, 14.30113976,\n",
       "       21.85049171, 13.94423491, 18.31248169, 19.30245498, 39.80117891,\n",
       "       17.3528438 , 23.6315258 , 24.8781196 , 20.24589492, 17.91275716,\n",
       "       11.62913794, 33.63215498, 20.44657726, 22.07191398, 21.54271847,\n",
       "       20.68660319, 16.15972062])"
      ]
     },
     "execution_count": 5,
     "metadata": {},
     "output_type": "execute_result"
    }
   ],
   "source": [
    "y_pred"
   ]
  },
  {
   "cell_type": "code",
   "execution_count": null,
   "metadata": {},
   "outputs": [],
   "source": []
  }
 ],
 "metadata": {
  "kernelspec": {
   "display_name": "Python 3",
   "language": "python",
   "name": "python3"
  },
  "language_info": {
   "codemirror_mode": {
    "name": "ipython",
    "version": 3
   },
   "file_extension": ".py",
   "mimetype": "text/x-python",
   "name": "python",
   "nbconvert_exporter": "python",
   "pygments_lexer": "ipython3",
   "version": "3.8.0"
  }
 },
 "nbformat": 4,
 "nbformat_minor": 2
}
